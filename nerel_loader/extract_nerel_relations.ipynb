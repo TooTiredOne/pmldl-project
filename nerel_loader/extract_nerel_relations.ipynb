{
  "nbformat": 4,
  "nbformat_minor": 0,
  "metadata": {
    "colab": {
      "name": "pmldl_project_2_nerel",
      "provenance": []
    },
    "kernelspec": {
      "name": "python3",
      "display_name": "Python 3"
    },
    "language_info": {
      "name": "python"
    }
  },
  "cells": [
    {
      "cell_type": "code",
      "metadata": {
        "id": "VGHpLplaQcEA"
      },
      "source": [
        "!unzip train.zip"
      ],
      "execution_count": null,
      "outputs": []
    },
    {
      "cell_type": "code",
      "metadata": {
        "id": "lvafAKbZPN68"
      },
      "source": [
        "import pandas as pd\n",
        "import numpy as np\n",
        "import glob"
      ],
      "execution_count": null,
      "outputs": []
    },
    {
      "cell_type": "code",
      "metadata": {
        "colab": {
          "base_uri": "https://localhost:8080/",
          "height": 204
        },
        "id": "25l5Qg4RQkkc",
        "outputId": "67b9a9c2-c34f-4600-999a-6bce12f9124a"
      },
      "source": [
        "wikidata_df = pd.read_csv(\"wikidata_relation.csv\")\n",
        "wikidata_df.head()"
      ],
      "execution_count": null,
      "outputs": [
        {
          "output_type": "execute_result",
          "data": {
            "text/html": [
              "<div>\n",
              "<style scoped>\n",
              "    .dataframe tbody tr th:only-of-type {\n",
              "        vertical-align: middle;\n",
              "    }\n",
              "\n",
              "    .dataframe tbody tr th {\n",
              "        vertical-align: top;\n",
              "    }\n",
              "\n",
              "    .dataframe thead th {\n",
              "        text-align: right;\n",
              "    }\n",
              "</style>\n",
              "<table border=\"1\" class=\"dataframe\">\n",
              "  <thead>\n",
              "    <tr style=\"text-align: right;\">\n",
              "      <th></th>\n",
              "      <th>Unnamed: 0</th>\n",
              "      <th>arg1</th>\n",
              "      <th>arg2</th>\n",
              "      <th>relation</th>\n",
              "    </tr>\n",
              "  </thead>\n",
              "  <tbody>\n",
              "    <tr>\n",
              "      <th>0</th>\n",
              "      <td>0</td>\n",
              "      <td>Michael Gnant</td>\n",
              "      <td>Михаэль Хойпль</td>\n",
              "      <td>KNOWS</td>\n",
              "    </tr>\n",
              "    <tr>\n",
              "      <th>1</th>\n",
              "      <td>1</td>\n",
              "      <td>history of religions school</td>\n",
              "      <td>Герман Гункель</td>\n",
              "      <td>KNOWS</td>\n",
              "    </tr>\n",
              "    <tr>\n",
              "      <th>2</th>\n",
              "      <td>2</td>\n",
              "      <td>Chrysler</td>\n",
              "      <td>Дитер Цетше</td>\n",
              "      <td>KNOWS</td>\n",
              "    </tr>\n",
              "    <tr>\n",
              "      <th>3</th>\n",
              "      <td>3</td>\n",
              "      <td>Reinhold Schittenhelm</td>\n",
              "      <td>Ховен, Вальдемар</td>\n",
              "      <td>KNOWS</td>\n",
              "    </tr>\n",
              "    <tr>\n",
              "      <th>4</th>\n",
              "      <td>4</td>\n",
              "      <td>Grete Illy</td>\n",
              "      <td>Кашниц, Мария Луиза</td>\n",
              "      <td>KNOWS</td>\n",
              "    </tr>\n",
              "  </tbody>\n",
              "</table>\n",
              "</div>"
            ],
            "text/plain": [
              "   Unnamed: 0                         arg1                 arg2 relation\n",
              "0           0                Michael Gnant       Михаэль Хойпль    KNOWS\n",
              "1           1  history of religions school       Герман Гункель    KNOWS\n",
              "2           2                     Chrysler          Дитер Цетше    KNOWS\n",
              "3           3        Reinhold Schittenhelm     Ховен, Вальдемар    KNOWS\n",
              "4           4                   Grete Illy  Кашниц, Мария Луиза    KNOWS"
            ]
          },
          "metadata": {},
          "execution_count": 4
        }
      ]
    },
    {
      "cell_type": "code",
      "metadata": {
        "colab": {
          "base_uri": "https://localhost:8080/"
        },
        "id": "5kaE4lrKZqTm",
        "outputId": "ef84803e-d156-4a6e-b7db-9ebc11150ff9"
      },
      "source": [
        "wikidata_relations = wikidata_df['relation'].unique()\n",
        "wikidata_relations"
      ],
      "execution_count": null,
      "outputs": [
        {
          "output_type": "execute_result",
          "data": {
            "text/plain": [
              "array(['KNOWS', 'AWARDED_WITH', 'PLACE_OF_BIRTH', 'CAUSE_OF_DEATH',\n",
              "       'PLACE_OF_DEATH', 'FOUNDED_BY', 'HEADQUARTERED_IN', 'IDEOLOGY_OF',\n",
              "       'LOCATED_IN', 'SPOUSE', 'MEMBER_OF', 'ORGANIZES', 'ORIGINS_FROM',\n",
              "       'OWNER_OF', 'PARENT_OF', 'PARTICIPANT_IN', 'PLACE_RESIDES_IN',\n",
              "       'PRODUCES', 'RELATIVE', 'RELIGION_OF', 'SCHOOLS_ATTENDED',\n",
              "       'SIBLING', 'SUBEVENT_OF', 'WORKS_AS', 'CHARGED_WITH',\n",
              "       'SUBSIDIARIES'], dtype=object)"
            ]
          },
          "metadata": {},
          "execution_count": 18
        }
      ]
    },
    {
      "cell_type": "code",
      "metadata": {
        "colab": {
          "base_uri": "https://localhost:8080/"
        },
        "id": "2mNeTM6hRIkj",
        "outputId": "abc54f80-047f-40f4-f4e7-e78d7486e220"
      },
      "source": [
        "print(glob.glob('./train/*.ann'))"
      ],
      "execution_count": null,
      "outputs": [
        {
          "output_type": "stream",
          "name": "stdout",
          "text": [
            "['./train/19498_text.ann', './train/110890_text.ann', './train/39118_text.ann', './train/133109_text.ann', './train/109263_text.ann', './train/103130_text.ann', './train/19630_text.ann', './train/152324_text.ann', './train/25830_text.ann', './train/117464_text.ann', './train/109369_text.ann', './train/145077_text.ann', './train/18908_text.ann', './train/132779_text.ann', './train/115868_text.ann', './train/112736_text.ann', './train/16100_text.ann', './train/38891_text.ann', './train/26_11_12f.ann', './train/60320_text.ann', './train/9455_text.ann', './train/162664_text.ann', './train/11597_text.ann', './train/39392_text.ann', './train/20464_text.ann', './train/112371_text.ann', './train/13162_text.ann', './train/160996_text.ann', './train/506815_text.ann', './train/108219_text.ann', './train/45297_text.ann', './train/521225_text.ann', './train/543.ann', './train/096.ann', './train/27496_text.ann', './train/57393_text.ann', './train/094.ann', './train/13605_text.ann', './train/28576_text.ann', './train/108694_text.ann', './train/2988_text.ann', './train/1114.ann', './train/107803_text.ann', './train/38085_text.ann', './train/629.ann', './train/112814_text.ann', './train/9857_text.ann', './train/21217_text.ann', './train/509121_text.ann', './train/139972_text.ann', './train/3366_text.ann', './train/148925_text.ann', './train/117341_text.ann', './train/121978_text.ann', './train/1112.ann', './train/127981_text.ann', './train/23012_text.ann', './train/24647_text.ann', './train/320.ann', './train/38202_text.ann', './train/121860_text.ann', './train/528182_text.ann', './train/121892_text.ann', './train/156119_text.ann', './train/18216_text.ann', './train/322.ann', './train/133118_text.ann', './train/110491_text.ann', './train/110589_text.ann', './train/515800_text.ann', './train/534919_text.ann', './train/39540_text.ann', './train/3626_text.ann', './train/40297_text.ann', './train/12521_text.ann', './train/105025_text.ann', './train/12339_text.ann', './train/18330_text.ann', './train/13146_text.ann', './train/108179_text.ann', './train/014.ann', './train/37085_text.ann', './train/128288_text.ann', './train/46784_text.ann', './train/129072_text.ann', './train/125.ann', './train/22581_text.ann', './train/37642_text.ann', './train/114858_text.ann', './train/40984_text.ann', './train/216.ann', './train/18773_text.ann', './train/38626_text.ann', './train/128596_text.ann', './train/16672_text.ann', './train/26388_text.ann', './train/631.ann', './train/47371_text.ann', './train/21871_text.ann', './train/105729_text.ann', './train/610.ann', './train/57260_text.ann', './train/12581_text.ann', './train/5757_text.ann', './train/3377_text.ann', './train/107415_text.ann', './train/117.ann', './train/27246_text.ann', './train/57760_text.ann', './train/24877_text.ann', './train/53088_text.ann', './train/18879_text.ann', './train/506305_text.ann', './train/37677_text.ann', './train/441.ann', './train/504783_text.ann', './train/449.ann', './train/23466_text.ann', './train/39006_text.ann', './train/15213_text.ann', './train/82299_text.ann', './train/100084_text.ann', './train/438.ann', './train/574.ann', './train/22222_text.ann', './train/333.ann', './train/15582_text.ann', './train/39221_text.ann', './train/132387_text.ann', './train/25671_text.ann', './train/38669_text.ann', './train/82853_text.ann', './train/69240_text.ann', './train/37091_text.ann', './train/055.ann', './train/3397_text.ann', './train/110737_text.ann', './train/23275_text.ann', './train/107615_text.ann', './train/520080_text.ann', './train/159427_text.ann', './train/107209_text.ann', './train/12995_text.ann', './train/84834_text.ann', './train/598_.ann', './train/37666_text.ann', './train/8592_text.ann', './train/615.ann', './train/132624_text.ann', './train/163703_text.ann', './train/444329_text.ann', './train/530754_text.ann', './train/102645_text.ann', './train/39987_text.ann', './train/131643_text.ann', './train/37646_text.ann', './train/20185_text.ann', './train/363.ann', './train/44699_text.ann', './train/26827_text.ann', './train/013.ann', './train/117155_text.ann', './train/510797_text.ann', './train/14000_text.ann', './train/9736_text.ann', './train/12256_text.ann', './train/44788_text.ann', './train/41765_text.ann', './train/139852_text.ann', './train/106106_text.ann', './train/4098_text.ann', './train/100148_text.ann', './train/107294_text.ann', './train/298.ann', './train/118140_text.ann', './train/524786_text.ann', './train/13549_text.ann', './train/128120_text.ann', './train/20352_text.ann', './train/58654_text.ann', './train/90789_text.ann', './train/445.ann', './train/383.ann', './train/15608_text.ann', './train/109033_text.ann', './train/16684_text.ann', './train/04_12_12g.ann', './train/11899_text.ann', './train/27534_text.ann', './train/8277_text.ann', './train/104439_text.ann', './train/45172_text.ann', './train/112588_text.ann', './train/19896_text.ann', './train/90693_text.ann', './train/128624_text.ann', './train/107644_text.ann', './train/121823_text.ann', './train/114.ann', './train/122945_text.ann', './train/81586_text.ann', './train/37745_text.ann', './train/41963_text.ann', './train/16808_text.ann', './train/063.ann', './train/39557_text.ann', './train/136909_text.ann', './train/2689_text.ann', './train/112626_text.ann', './train/2329_text.ann', './train/135343_text.ann', './train/22275_text.ann', './train/1592_text.ann', './train/99855_text.ann', './train/42263_text.ann', './train/53542_text.ann', './train/12162_text.ann', './train/130.ann', './train/141724_text.ann', './train/533415_text.ann', './train/106570_text.ann', './train/503652_text.ann', './train/24989_text.ann', './train/39402_text.ann', './train/221.ann', './train/99740_text.ann', './train/24391_text.ann', './train/39923_text.ann', './train/14672_text.ann', './train/122.ann', './train/13703_text.ann', './train/150038_text.ann', './train/110975_text.ann', './train/24632_text.ann', './train/107943_text.ann', './train/2027_text.ann', './train/164183_text.ann', './train/40579_text.ann', './train/55256_text.ann', './train/38739_text.ann', './train/26479_text.ann', './train/105072_text.ann', './train/37719_text.ann', './train/124371_text.ann', './train/111819_text.ann', './train/173553_text.ann', './train/38165_text.ann', './train/133112_text.ann', './train/21908_text.ann', './train/119216_text.ann', './train/11070_text.ann', './train/12604_text.ann', './train/12383_text.ann', './train/3248_text.ann', './train/101387_text.ann', './train/26038_text.ann', './train/511872_text.ann', './train/137126_text.ann', './train/26589_text.ann', './train/119110_text.ann', './train/078.ann', './train/15063_text.ann', './train/542.ann', './train/112636_text.ann', './train/123549_text.ann', './train/12505_text.ann', './train/1109.ann', './train/133604_text.ann', './train/24536_text.ann', './train/40485_text.ann', './train/20760_text.ann', './train/13518_text.ann', './train/108102_text.ann', './train/11556_text.ann', './train/99748_text.ann', './train/39698_text.ann', './train/39885_text.ann', './train/103706_text.ann', './train/113790_text.ann', './train/80535_text.ann', './train/503921_text.ann', './train/118997_text.ann', './train/13876_text.ann', './train/122562_text.ann', './train/38473_text.ann', './train/20160_text.ann', './train/141309_text.ann', './train/19039_text.ann', './train/90046_text.ann', './train/100756_text.ann', './train/141181_text.ann', './train/37367_text.ann', './train/046.ann', './train/201.ann', './train/138638_text.ann', './train/112615_text.ann', './train/161220_text.ann', './train/12888_text.ann', './train/19613_text.ann', './train/7357_text.ann', './train/073.ann', './train/466.ann', './train/310.ann', './train/22371_text.ann', './train/18886_text.ann', './train/13785_text.ann', './train/121533_text.ann', './train/13730_text.ann', './train/99993_text.ann', './train/40819_text.ann', './train/15736_text.ann', './train/110637_text.ann', './train/1113.ann', './train/19528_text.ann', './train/122447_text.ann', './train/13536_text.ann', './train/23693_text.ann', './train/122283_text.ann', './train/21274_text.ann', './train/141084_text.ann', './train/38778_text.ann', './train/47642_text.ann', './train/164003_text.ann', './train/111763_text.ann', './train/106214_text.ann', './train/22971_text.ann', './train/39824_text.ann', './train/194.ann', './train/38881_text.ann', './train/21416_text.ann', './train/3303_text.ann', './train/108534_text.ann', './train/37014_text.ann', './train/16177_text.ann', './train/21451_text.ann', './train/121454_text.ann', './train/44820_text.ann', './train/111202_text.ann', './train/127139_text.ann', './train/509888_text.ann', './train/158501_text.ann', './train/5755_text.ann', './train/90908_text.ann', './train/123284_text.ann', './train/16404_text.ann', './train/116.ann', './train/23889_text.ann', './train/100624_text.ann', './train/3948_text.ann', './train/102661_text.ann', './train/003.ann', './train/155495_text.ann', './train/102474_text.ann', './train/162165_text.ann', './train/19358_text.ann', './train/20442_text.ann', './train/25518_text.ann', './train/529916_text.ann', './train/14432_text.ann', './train/103597_text.ann', './train/15429_text.ann', './train/106330_text.ann', './train/375.ann', './train/20849_text.ann', './train/131768_text.ann', './train/27937_text.ann', './train/53056_text.ann', './train/38921_text.ann', './train/40857_text.ann', './train/535058_text.ann', './train/402.ann', './train/104195_text.ann', './train/104722_text.ann', './train/124327_text.ann', './train/527071_text.ann', './train/12154_text.ann', './train/23738_text.ann', './train/13861_text.ann', './train/26402_text.ann', './train/15545_text.ann', './train/42687_text.ann', './train/160367_text.ann', './train/16642_text.ann', './train/064.ann', './train/12364_text.ann', './train/37695_text.ann', './train/12396_text.ann', './train/83187_text.ann', './train/536232_text.ann', './train/12474_text.ann', './train/25622_text.ann', './train/27439_text.ann', './train/133570_text.ann', './train/141316_text.ann', './train/40436_text.ann', './train/3852_text.ann', './train/57221_text.ann', './train/36807_text.ann', './train/121887_text.ann', './train/43022_text.ann', './train/10744_text.ann', './train/38217_text.ann', './train/19676_text.ann', './train/28306_text.ann', './train/19054_text.ann', './train/38176_text.ann', './train/105317_text.ann', './train/26230_text.ann', './train/40631_text.ann', './train/105490_text.ann', './train/86220_text.ann', './train/27107_text.ann', './train/79752_text.ann', './train/15597_text.ann', './train/20721_text.ann', './train/37943_text.ann', './train/13301_text.ann', './train/21173_text.ann', './train/106133_text.ann', './train/107682_text.ann', './train/416.ann', './train/88884_text.ann', './train/041.ann', './train/90122_text.ann', './train/19361_text.ann', './train/39296_text.ann', './train/101292_text.ann', './train/88955_text.ann', './train/44838_text.ann', './train/42258_text.ann', './train/38456_text.ann', './train/55484_text.ann', './train/112677_text.ann', './train/105105_text.ann', './train/106643_text.ann', './train/26551_text.ann', './train/4894_text.ann', './train/25455_text.ann', './train/37369_text.ann', './train/108186_text.ann', './train/11127_text.ann', './train/12499_text.ann', './train/133611_text.ann', './train/104649_text.ann', './train/18805_text.ann', './train/149704_text.ann', './train/106555_text.ann', './train/20090_text.ann', './train/1015.ann', './train/80395_text.ann', './train/2281_text.ann', './train/29_11_12b.ann', './train/11600_text.ann', './train/137247_text.ann', './train/109378_text.ann', './train/136455_text.ann', './train/22899_text.ann', './train/129381_text.ann', './train/133121_text.ann', './train/90763_text.ann', './train/88264_text.ann', './train/151219_text.ann', './train/378.ann', './train/11290_text.ann', './train/7605_text.ann', './train/38388_text.ann', './train/106656_text.ann', './train/23713_text.ann', './train/39499_text.ann', './train/124464_text.ann', './train/203.ann', './train/511580_text.ann', './train/105591_text.ann', './train/133356_text.ann', './train/109128_text.ann', './train/22998_text.ann', './train/28649_text.ann', './train/4409_text.ann', './train/13896_text.ann', './train/510.ann', './train/107771_text.ann', './train/23445_text.ann', './train/13042_text.ann', './train/104218_text.ann', './train/11766_text.ann', './train/11112_text.ann', './train/539.ann', './train/226.ann', './train/156215_text.ann', './train/26416_text.ann', './train/145274_text.ann', './train/161651_text.ann', './train/57840_text.ann', './train/12047_text.ann', './train/107647_text.ann', './train/1021.ann', './train/508529_text.ann', './train/127332_text.ann', './train/433.ann', './train/39363_text.ann', './train/165973_text.ann', './train/19427_text.ann', './train/129439_text.ann', './train/125048_text.ann', './train/40598_text.ann', './train/10086_text.ann', './train/126876_text.ann', './train/106653_text.ann', './train/13649_text.ann', './train/122274_text.ann', './train/18920_text.ann', './train/23422_text.ann', './train/112779_text.ann', './train/44758_text.ann', './train/23821_text.ann', './train/12146_text.ann', './train/39993_text.ann', './train/11250_text.ann', './train/538190_text.ann', './train/8038_text.ann', './train/28565_text.ann', './train/505701_text.ann', './train/19634_text.ann', './train/576.ann', './train/538184_text.ann', './train/531.ann', './train/25896_text.ann', './train/112891_text.ann', './train/38355_text.ann', './train/17964_text.ann', './train/100986_text.ann', './train/14018_text.ann', './train/156300_text.ann', './train/100600_text.ann', './train/112623_text.ann', './train/24115_text.ann', './train/527159_text.ann', './train/11587_text.ann', './train/13917_text.ann', './train/56755_text.ann', './train/109015_text.ann', './train/14851_text.ann', './train/22657_text.ann', './train/11952_text.ann', './train/39176_text.ann', './train/39442_text.ann', './train/105140_text.ann', './train/20917_text.ann', './train/104083_text.ann', './train/161281_text.ann', './train/111444_text.ann', './train/90736_text.ann', './train/24914_text.ann', './train/27872_text.ann', './train/24823_text.ann', './train/19315_text.ann', './train/022.ann', './train/132556_text.ann', './train/159392_text.ann', './train/41314_text.ann', './train/131095_text.ann', './train/1003.ann', './train/075.ann', './train/28074_text.ann', './train/102597_text.ann', './train/133620_text.ann', './train/108390_text.ann', './train/13912_text.ann', './train/131001_text.ann', './train/123407_text.ann', './train/4269_text.ann', './train/12176_text.ann', './train/52772_text.ann', './train/463.ann', './train/443.ann', './train/384.ann', './train/22973_text.ann', './train/18993_text.ann', './train/497.ann', './train/90377_text.ann', './train/512873_text.ann', './train/108855_text.ann', './train/1013.ann', './train/110458_text.ann', './train/527162_text.ann', './train/116336_text.ann', './train/129326_text.ann', './train/118656_text.ann', './train/570.ann', './train/421.ann', './train/81619_text.ann', './train/127917_text.ann', './train/117149_text.ann', './train/2552_text.ann', './train/80102_text.ann', './train/80771_text.ann', './train/133940_text.ann', './train/158393_text.ann', './train/13030_text.ann', './train/104472_text.ann', './train/18694_text.ann', './train/19107_text.ann', './train/109148_text.ann', './train/127939_text.ann', './train/109230_text.ann', './train/142539_text.ann', './train/100832_text.ann', './train/13126_text.ann', './train/104434_text.ann', './train/124044_text.ann', './train/19598_text.ann', './train/109066_text.ann', './train/21013_text.ann', './train/26281_text.ann', './train/81872_text.ann', './train/105837_text.ann', './train/163883_text.ann', './train/19968_text.ann', './train/104239_text.ann', './train/27428_text.ann', './train/123602_text.ann', './train/42665_text.ann', './train/26616_text.ann', './train/142303_text.ann', './train/112753_text.ann', './train/19953_text.ann', './train/83798_text.ann', './train/109428_text.ann', './train/150842_text.ann', './train/81632_text.ann', './train/7455_text.ann', './train/7763_text.ann', './train/134067_text.ann', './train/25064_text.ann', './train/42565_text.ann', './train/109882_text.ann', './train/520.ann', './train/168.ann', './train/39758_text.ann', './train/160284_text.ann', './train/117141_text.ann', './train/41606_text.ann', './train/120242_text.ann', './train/105566_text.ann', './train/27589_text.ann', './train/18480_text.ann', './train/149913_text.ann', './train/15371_text.ann', './train/56941_text.ann', './train/84693_text.ann', './train/14776_text.ann', './train/104189_text.ann', './train/158389_text.ann', './train/19975_text.ann', './train/117514_text.ann', './train/27_11_12d.ann', './train/123888_text.ann', './train/534256_text.ann', './train/3751_text.ann', './train/26741_text.ann', './train/28585_text.ann', './train/39912_text.ann', './train/18374_text.ann', './train/8480_text.ann', './train/159193_text.ann', './train/36800_text.ann', './train/1050.ann', './train/28337_text.ann', './train/56413_text.ann', './train/105901_text.ann', './train/83348_text.ann', './train/60335_text.ann', './train/116060_text.ann', './train/91015_text.ann', './train/8181_text.ann', './train/128762_text.ann', './train/20318_text.ann', './train/109586_text.ann', './train/39503_text.ann', './train/4962_text.ann', './train/19999_text.ann', './train/15895_text.ann', './train/106865_text.ann', './train/163487_text.ann', './train/22320_text.ann', './train/39023_text.ann', './train/49920_text.ann', './train/99832_text.ann', './train/287.ann', './train/12194_text.ann', './train/112444_text.ann', './train/157795_text.ann', './train/1106.ann', './train/176.ann', './train/521576_text.ann', './train/101502_text.ann', './train/138191_text.ann', './train/124168_text.ann', './train/111010_text.ann', './train/113675_text.ann', './train/38234_text.ann', './train/3936_text.ann', './train/38985_text.ann', './train/043.ann', './train/20606_text.ann', './train/106967_text.ann', './train/16065_text.ann', './train/16734_text.ann', './train/106096_text.ann', './train/211.ann', './train/516067_text.ann', './train/023.ann', './train/370.ann', './train/123696_text.ann', './train/54689_text.ann', './train/534938_text.ann', './train/12495_text.ann', './train/15600_text.ann', './train/110172_text.ann', './train/38157_text.ann', './train/104106_text.ann', './train/037.ann', './train/633.ann', './train/8071_text.ann', './train/11461_text.ann', './train/163864_text.ann', './train/130442_text.ann', './train/49550_text.ann', './train/23512_text.ann', './train/114854_text.ann', './train/123364_text.ann', './train/12522_text.ann', './train/37740_text.ann', './train/21165_text.ann', './train/130557_text.ann', './train/113426_text.ann', './train/154509_text.ann', './train/41445_text.ann', './train/15984_text.ann', './train/19795_text.ann', './train/164467_text.ann', './train/28090_text.ann', './train/135917_text.ann', './train/39538_text.ann', './train/1976_text.ann', './train/22582_text.ann']\n"
          ]
        }
      ]
    },
    {
      "cell_type": "code",
      "metadata": {
        "id": "qJUPSchfWws8"
      },
      "source": [
        "nerel = set()\n",
        "for filename in glob.glob('./train/*.ann'):\n",
        "  entities = dict()\n",
        "  relations_buffer = []\n",
        "  with open(filename) as file:\n",
        "    for raw_line in file:\n",
        "      line = raw_line.rstrip()\n",
        "      splitted = line.split()\n",
        "      if splitted[0][0] == \"T\":\n",
        "        entity_id = splitted[0]\n",
        "        entity_value = ' '.join(splitted[4:])\n",
        "        entities[entity_id] = entity_value\n",
        "      elif splitted[1] in wikidata_relations:\n",
        "        arg1_id = splitted[2].split(\":\")[1]\n",
        "        arg2_id = splitted[3].split(\":\")[1]\n",
        "        relations_buffer.append((arg1_id, arg2_id, splitted[1]))\n",
        "    \n",
        "    for arg1_id, arg2_id, relation in relations_buffer:\n",
        "      arg1 = entities[arg1_id]\n",
        "      arg2 = entities[arg2_id]\n",
        "      nerel.add((arg1, arg2, relation))"
      ],
      "execution_count": null,
      "outputs": []
    },
    {
      "cell_type": "code",
      "metadata": {
        "colab": {
          "base_uri": "https://localhost:8080/",
          "height": 419
        },
        "id": "40Yx_3oYbiQM",
        "outputId": "edcb9792-65ed-4541-b645-6b853d4b4e69"
      },
      "source": [
        "nerel_df = pd.DataFrame(nerel, columns = ['arg1', 'arg2', 'relation'])\n",
        "nerel_df"
      ],
      "execution_count": null,
      "outputs": [
        {
          "output_type": "execute_result",
          "data": {
            "text/html": [
              "<div>\n",
              "<style scoped>\n",
              "    .dataframe tbody tr th:only-of-type {\n",
              "        vertical-align: middle;\n",
              "    }\n",
              "\n",
              "    .dataframe tbody tr th {\n",
              "        vertical-align: top;\n",
              "    }\n",
              "\n",
              "    .dataframe thead th {\n",
              "        text-align: right;\n",
              "    }\n",
              "</style>\n",
              "<table border=\"1\" class=\"dataframe\">\n",
              "  <thead>\n",
              "    <tr style=\"text-align: right;\">\n",
              "      <th></th>\n",
              "      <th>arg1</th>\n",
              "      <th>arg2</th>\n",
              "      <th>relation</th>\n",
              "    </tr>\n",
              "  </thead>\n",
              "  <tbody>\n",
              "    <tr>\n",
              "      <th>0</th>\n",
              "      <td>Жерар Депардьё</td>\n",
              "      <td>Золотой глобус</td>\n",
              "      <td>AWARDED_WITH</td>\n",
              "    </tr>\n",
              "    <tr>\n",
              "      <th>1</th>\n",
              "      <td>Тимур Махаури</td>\n",
              "      <td>погиб</td>\n",
              "      <td>PARTICIPANT_IN</td>\n",
              "    </tr>\n",
              "    <tr>\n",
              "      <th>2</th>\n",
              "      <td>Пенсильванского университета</td>\n",
              "      <td>Пенсильванского</td>\n",
              "      <td>HEADQUARTERED_IN</td>\n",
              "    </tr>\n",
              "    <tr>\n",
              "      <th>3</th>\n",
              "      <td>инспекторы</td>\n",
              "      <td>российские</td>\n",
              "      <td>ORIGINS_FROM</td>\n",
              "    </tr>\n",
              "    <tr>\n",
              "      <th>4</th>\n",
              "      <td>Independent</td>\n",
              "      <td>британских</td>\n",
              "      <td>HEADQUARTERED_IN</td>\n",
              "    </tr>\n",
              "    <tr>\n",
              "      <th>...</th>\n",
              "      <td>...</td>\n",
              "      <td>...</td>\n",
              "      <td>...</td>\n",
              "    </tr>\n",
              "    <tr>\n",
              "      <th>14080</th>\n",
              "      <td>Михаил Абызов</td>\n",
              "      <td>1,2 миллиарда долларов</td>\n",
              "      <td>OWNER_OF</td>\n",
              "    </tr>\n",
              "    <tr>\n",
              "      <th>14081</th>\n",
              "      <td>Марина Миронова</td>\n",
              "      <td>России</td>\n",
              "      <td>ORIGINS_FROM</td>\n",
              "    </tr>\n",
              "    <tr>\n",
              "      <th>14082</th>\n",
              "      <td>Галифаксе</td>\n",
              "      <td>канадском</td>\n",
              "      <td>LOCATED_IN</td>\n",
              "    </tr>\n",
              "    <tr>\n",
              "      <th>14083</th>\n",
              "      <td>Альмодовар</td>\n",
              "      <td>Разомкнутые объятия</td>\n",
              "      <td>PRODUCES</td>\n",
              "    </tr>\n",
              "    <tr>\n",
              "      <th>14084</th>\n",
              "      <td>Виталий Чуркин</td>\n",
              "      <td>умер</td>\n",
              "      <td>PARTICIPANT_IN</td>\n",
              "    </tr>\n",
              "  </tbody>\n",
              "</table>\n",
              "<p>14085 rows × 3 columns</p>\n",
              "</div>"
            ],
            "text/plain": [
              "                               arg1                    arg2          relation\n",
              "0                    Жерар Депардьё          Золотой глобус      AWARDED_WITH\n",
              "1                     Тимур Махаури                   погиб    PARTICIPANT_IN\n",
              "2      Пенсильванского университета         Пенсильванского  HEADQUARTERED_IN\n",
              "3                        инспекторы              российские      ORIGINS_FROM\n",
              "4                       Independent              британских  HEADQUARTERED_IN\n",
              "...                             ...                     ...               ...\n",
              "14080                 Михаил Абызов  1,2 миллиарда долларов          OWNER_OF\n",
              "14081               Марина Миронова                  России      ORIGINS_FROM\n",
              "14082                     Галифаксе               канадском        LOCATED_IN\n",
              "14083                    Альмодовар     Разомкнутые объятия          PRODUCES\n",
              "14084                Виталий Чуркин                    умер    PARTICIPANT_IN\n",
              "\n",
              "[14085 rows x 3 columns]"
            ]
          },
          "metadata": {},
          "execution_count": 26
        }
      ]
    },
    {
      "cell_type": "code",
      "metadata": {
        "id": "K53tpDe4c9iW"
      },
      "source": [
        "nerel_df.to_csv('nerel_relation.csv')"
      ],
      "execution_count": null,
      "outputs": []
    },
    {
      "cell_type": "code",
      "metadata": {
        "id": "qGo9-RhbY0Fa"
      },
      "source": [
        ""
      ],
      "execution_count": null,
      "outputs": []
    }
  ]
}